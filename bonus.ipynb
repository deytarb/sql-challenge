{
 "cells": [
  {
   "cell_type": "code",
   "execution_count": 3,
   "id": "f3c925d4",
   "metadata": {
    "pycharm": {
     "name": "#%%\n"
    }
   },
   "outputs": [
    {
     "name": "stdout",
     "output_type": "stream",
     "text": [
      "            avg             title\n",
      "3  48582.896092  Technique Leader\n",
      "5  58465.382850             Staff\n",
      "6  58550.172704      Senior Staff\n",
      "0  48506.799871   Senior Engineer\n",
      "4  51531.041667           Manager\n"
     ]
    },
    {
     "data": {
      "image/png": "[encoded data removed]",
      "text/plain": [
       "<Figure size 432x288 with 1 Axes>"
      ]
     },
     "metadata": {
      "needs_background": "light"
     },
     "output_type": "display_data"
    },
    {
     "data": {
      "text/plain": [
       "<Figure size 432x288 with 0 Axes>"
      ]
     },
     "metadata": {},
     "output_type": "display_data"
    },
    {
     "data": {
      "image/png": "[encoded data removed]",
      "text/plain": [
       "<Figure size 432x288 with 1 Axes>"
      ]
     },
     "metadata": {
      "needs_background": "light"
     },
     "output_type": "display_data"
    }
   ],
   "source": [
    "import pandas.io.sql as sqlio\n",
    "import psycopg2\n",
    "import matplotlib.pyplot as plt\n",
    "\n",
    "conn = psycopg2.connect(\n",
    "    host=\"localhost\",\n",
    "    database=\"postgres\",\n",
    "    user=\"postgres\",\n",
    "    password=\"Test\")\n",
    "salaries = \"\"\"\n",
    "SELECT DISTINCT\n",
    "\tsal.salary\n",
    "FROM\n",
    "\t\"Salaries\" AS sal\n",
    ";\n",
    "\"\"\"\n",
    "dat = sqlio.read_sql_query(salaries, conn)\n",
    "dat.hist()\n",
    "\n",
    "salariesByTitle = \"\"\"\n",
    "SELECT DISTINCT\n",
    "\tAVG(sal.salary),\n",
    "\ttlt.title\n",
    "FROM\n",
    "\t\\\"Salaries\\\" as sal,\n",
    "\t\\\"Employees\\\" as emp,\n",
    "\t\\\"Titles\\\" as tlt\n",
    "WHERE\n",
    "\tsal.emp_no = emp.emp_no\n",
    "\tAND\n",
    "\temp.emp_title_id = tlt.title_id\n",
    "GROUP BY\n",
    "\ttlt.title\n",
    "\"\"\"\n",
    "\n",
    "avg = sqlio.read_sql_query(salariesByTitle, conn)\n",
    "avg = avg.sort_values(\"title\", ascending=False)\n",
    "plt.figure()\n",
    "fig, ax = plt.subplots(1, 1)\n",
    "avg.plot(ax=ax, kind='bar')\n",
    "fig.suptitle(\"Average of salary by title\")\n",
    "print(avg.head())\n"
   ]
  },
  {
   "cell_type": "code",
   "execution_count": null,
   "id": "346acc91",
   "metadata": {},
   "outputs": [],
   "source": []
  }
 ],
 "metadata": {
  "kernelspec": {
   "display_name": "Python 3",
   "language": "python",
   "name": "python3"
  },
  "language_info": {
   "codemirror_mode": {
    "name": "ipython",
    "version": 3
   },
   "file_extension": ".py",
   "mimetype": "text/x-python",
   "name": "python",
   "nbconvert_exporter": "python",
   "pygments_lexer": "ipython3",
   "version": "3.6.10"
  }
 },
 "nbformat": 4,
 "nbformat_minor": 5
}
